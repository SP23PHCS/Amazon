echo "# Amazon" >> README.md
git init
git add README.md
git commit -m "first commit"
git branch -M main
git remote add origin https://github.com/SP23PHCS/Amazon.git
git push -u origin main
